{
 "cells": [
  {
   "cell_type": "markdown",
   "metadata": {},
   "source": [
    "## Overall Model Comparison\n",
    "\n",
    "| Model        | Augmentation | BatchNorm | Conv Filters     | Dense Units | Params     | Train Acc | Val Acc | Overfitting | Notes |\n",
    "|--------------|--------------|-----------|------------------|-------------|------------|-----------|---------|--------------|-------|\n",
    "| **Base**     | No           | No        | 32 → 64 → 64     | 64          | ~1.4M      | 97.12%    | 84.72%  | High         | Overfitting visible |\n",
    "| **Mod-1**    | No           | No        | 8 → 16 → 32      | 32          | ~330k      | 94.01%    | 81.62%  | Reduced      | Simpler, still overfitting |\n",
    "| **Mod-2**    | No           | No        | 4 → 8 → 16       | 16          | ~84k       | 75.66%    | 75.95%  | None         | Very balanced, efficient |\n",
    "| **Mod-3**    | Yes          | No        | 4 → 8 → 16       | 16          | ~84k       | 71.78%    | 75.19%  | None         | Augmentation helps generalization |\n",
    "| **Mod-4**    | Yes          | Yes       | 8 → 16 → 32      | 32          | ~332k      | 78.97%    | 79.90%  | None         | Best generalization and lowest loss |\n",
    "\n",
    "### Interpretation:\n",
    "- **Best accuracy**: Base model — but suffers from clear overfitting\n",
    "- **Best generalization**: Modified-4 — excellent validation performance without overfitting\n",
    "- **Best efficiency**: Modified-2 — strong balance with only ~84k parameters\n",
    "- **Most effective regularization**: BatchNorm + Augmentation (Modified-4)"
   ]
  }
 ],
 "metadata": {
  "kernelspec": {
   "display_name": "fh-ai-venv",
   "language": "python",
   "name": "python3"
  },
  "language_info": {
   "codemirror_mode": {
    "name": "ipython",
    "version": 3
   },
   "file_extension": ".py",
   "mimetype": "text/x-python",
   "name": "python",
   "nbconvert_exporter": "python",
   "pygments_lexer": "ipython3",
   "version": "3.12.10"
  }
 },
 "nbformat": 4,
 "nbformat_minor": 2
}
